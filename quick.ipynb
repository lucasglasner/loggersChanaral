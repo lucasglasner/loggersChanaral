{
 "cells": [
  {
   "cell_type": "code",
   "execution_count": 563,
   "metadata": {},
   "outputs": [],
   "source": [
    "import pandas as pd\n",
    "import numpy as np\n",
    "import matplotlib.pyplot as plt\n",
    "from glob import glob\n",
    "import scipy.stats as st"
   ]
  },
  {
   "cell_type": "code",
   "execution_count": 564,
   "metadata": {},
   "outputs": [],
   "source": [
    "paths = glob('data/sensors*.csv')\n",
    "data  = [pd.read_csv(p, index_col=0, parse_dates=True) for p in paths]\n",
    "keys  = [''.join(p.split('/')[1].replace('sensors_','').split('_')[:2]) for p in paths]\n",
    "data  = pd.concat(data, keys=keys)\n",
    "data = data.swaplevel().unstack(0).T.swaplevel().unstack()\n",
    "\n",
    "data = data.interpolate(kind='cubic')\n",
    "data.to_csv('data/HOBOs_ICHAN_20220807_20230506.csv')"
   ]
  },
  {
   "cell_type": "code",
   "execution_count": 565,
   "metadata": {},
   "outputs": [],
   "source": [
    "vientoMARPCH = pd.read_csv('data/Viento_MARPCH.csv', index_col=0, parse_dates=True)['2022':]\n",
    "vientoICHAN  = pd.read_csv('data/Viento_ICHAN.csv', index_col=0, parse_dates=True)['2022':]\n",
    "\n",
    "vMARPCH = -vientoMARPCH.iloc[:,0]*np.cos(np.deg2rad(vientoMARPCH.iloc[:,1]))\n",
    "vICHAN  = -vientoICHAN.iloc[:,0]*np.cos(np.deg2rad(vientoICHAN.iloc[:,1]))\n",
    "period = slice('2022-11','2023-01')\n",
    "x = vMARPCH[period].dropna().resample('d').mean()\n",
    "y = vICHAN[period].resample('d').mean().reindex(x.index).dropna()\n",
    "x = x.reindex(y.index)\n",
    "m = st.linregress(x,y)\n",
    "\n",
    "vICHAN_new = (vMARPCH*m.slope + m.intercept)\n",
    "vICHAN_new = vICHAN_new.resample('30min').interpolate()\n",
    "vICHAN_new.name = 'VientoMeridional_ms-1'\n",
    "vICHAN_new.to_csv('data/VientoMeridional_ICHAN.csv')"
   ]
  },
  {
   "cell_type": "code",
   "execution_count": 566,
   "metadata": {},
   "outputs": [],
   "source": [
    "mask = (vICHAN_new.resample('d').mean()>5.0)\n",
    "for i in range(1,len(mask)-1):\n",
    "    if mask.iloc[i] == True:\n",
    "        if mask.iloc[i-1] == False:\n",
    "            if mask.iloc[i+1] == False:\n",
    "                mask.iloc[i] = False\n",
    "    # if mask[i] == False:\n",
    "    #     if mask[i-1] == True:\n",
    "    #         if mask[i+1] == True:\n",
    "    #             mask[i] = True\n",
    "mask = mask.resample('h').ffill().reindex(vICHAN_new.index).ffill()\n",
    "groupN = mask.diff().cumsum().fillna(0)\n",
    "groupN = groupN.where(groupN%2==0).dropna()\n",
    "\n",
    "x = pd.DataFrame(mask.copy())\n",
    "x['groupN'] = groupN\n",
    "events = []\n",
    "for i, g in x.groupby(['groupN']):\n",
    "    inicio = g.index[0].strftime('%F')\n",
    "    fin    = g.index[-1].strftime('%F')\n",
    "    events.append((inicio,fin))\n",
    "events = pd.DataFrame(events, columns=['Inicio','Fin'])\n",
    "events_slices = [slice(x,y) for x,y in zip(events.Inicio, events.Fin)]\n",
    "events.to_csv('data/EventosSurgencia_segunViento.csv')"
   ]
  },
  {
   "cell_type": "code",
   "execution_count": 567,
   "metadata": {},
   "outputs": [],
   "source": [
    "MaxTempTiming = []\n",
    "for i in range(len(events_slices)):\n",
    "    try:\n",
    "        x = data['synop10m'][events_slices[i]].iloc[:,0]\n",
    "        timing = x.idxmax()\n",
    "        MaxTempTiming.append(timing)\n",
    "    except:\n",
    "        pass\n",
    "eventsTemp = [(time-pd.Timedelta(days=1), time+pd.Timedelta(days=5)) for time in MaxTempTiming]\n",
    "eventsTemp = [(e[0].strftime('%F %H:%M:%S'),e[1].strftime('%F %H:%M:%S')) for e in eventsTemp]\n",
    "eventsTemp = pd.DataFrame(eventsTemp, columns=['Inicio','Fin'])\n",
    "eventsTemp.to_csv('data/EventosSurgencia_segunTemperatura.csv')"
   ]
  },
  {
   "cell_type": "code",
   "execution_count": 568,
   "metadata": {},
   "outputs": [],
   "source": [
    "groups10m = [data['synop10m'].loc[MaxTempTiming[i]-pd.Timedelta(days=1):MaxTempTiming[i]+pd.Timedelta(days=5)].reset_index(drop=True)\n",
    "             for i in range(len(MaxTempTiming))]\n",
    "groups30m = [data['synop30m'].loc[MaxTempTiming[i]-pd.Timedelta(days=1):MaxTempTiming[i]+pd.Timedelta(days=5)].reset_index(drop=True)\n",
    "             for i in range(len(MaxTempTiming))]\n",
    "mean10m = pd.concat(groups10m, keys=MaxTempTiming).unstack().T.mean(axis=1).unstack().T\n",
    "std10m  = pd.concat(groups10m, keys=MaxTempTiming).unstack().T.std(axis=1).unstack().T\n",
    "\n",
    "mean30m = pd.concat(groups30m, keys=MaxTempTiming).unstack().T.mean(axis=1).unstack().T\n",
    "std30m  = pd.concat(groups30m, keys=MaxTempTiming).unstack().T.std(axis=1).unstack().T\n",
    "\n",
    "\n",
    "index = np.linspace(-1*24, 5*24, len(mean10m))\n",
    "mean10m.index = index\n",
    "std10m.index = index\n",
    "mean30m.index = index\n",
    "std30m.index = index\n",
    "\n",
    "means = pd.concat([mean10m, mean30m], keys=['10m','30m'])\n",
    "stds  = pd.concat([std10m, std30m], keys=['10m','30m'])\n",
    "\n",
    "composite = pd.concat([means,stds], keys=['means','stds'])\n",
    "composite.unstack().T.to_csv('data/CompuestosSurgencia_Temperatura_pH_Oxigeno.csv')"
   ]
  }
 ],
 "metadata": {
  "kernelspec": {
   "display_name": "riverine",
   "language": "python",
   "name": "python3"
  },
  "language_info": {
   "codemirror_mode": {
    "name": "ipython",
    "version": 3
   },
   "file_extension": ".py",
   "mimetype": "text/x-python",
   "name": "python",
   "nbconvert_exporter": "python",
   "pygments_lexer": "ipython3",
   "version": "3.11.7"
  }
 },
 "nbformat": 4,
 "nbformat_minor": 2
}
